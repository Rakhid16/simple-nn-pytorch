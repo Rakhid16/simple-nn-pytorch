{
 "cells": [
  {
   "cell_type": "markdown",
   "metadata": {},
   "source": [
    "# 1. <i>Import libraries</i>"
   ]
  },
  {
   "cell_type": "code",
   "execution_count": 1,
   "metadata": {},
   "outputs": [],
   "source": [
    "from pandas import read_csv\n",
    "\n",
    "from sklearn.model_selection import train_test_split\n",
    "from sklearn.metrics import confusion_matrix, classification_report\n",
    "\n",
    "from torch.autograd import Variable\n",
    "from torch.nn.functional import relu\n",
    "from torch import Tensor, optim, nn, max"
   ]
  },
  {
   "cell_type": "markdown",
   "metadata": {},
   "source": [
    "# 2. Muat kemudian bagi <i>dataset</i>"
   ]
  },
  {
   "cell_type": "code",
   "execution_count": 2,
   "metadata": {},
   "outputs": [
    {
     "data": {
      "text/html": [
       "<div>\n",
       "<style scoped>\n",
       "    .dataframe tbody tr th:only-of-type {\n",
       "        vertical-align: middle;\n",
       "    }\n",
       "\n",
       "    .dataframe tbody tr th {\n",
       "        vertical-align: top;\n",
       "    }\n",
       "\n",
       "    .dataframe thead th {\n",
       "        text-align: right;\n",
       "    }\n",
       "</style>\n",
       "<table border=\"1\" class=\"dataframe\">\n",
       "  <thead>\n",
       "    <tr style=\"text-align: right;\">\n",
       "      <th></th>\n",
       "      <th>sepal_length</th>\n",
       "      <th>sepal_width</th>\n",
       "      <th>petal_length</th>\n",
       "      <th>petal_width</th>\n",
       "      <th>species</th>\n",
       "    </tr>\n",
       "  </thead>\n",
       "  <tbody>\n",
       "    <tr>\n",
       "      <th>0</th>\n",
       "      <td>5.1</td>\n",
       "      <td>3.5</td>\n",
       "      <td>1.4</td>\n",
       "      <td>0.2</td>\n",
       "      <td>Iris-setosa</td>\n",
       "    </tr>\n",
       "    <tr>\n",
       "      <th>1</th>\n",
       "      <td>4.9</td>\n",
       "      <td>3.0</td>\n",
       "      <td>1.4</td>\n",
       "      <td>0.2</td>\n",
       "      <td>Iris-setosa</td>\n",
       "    </tr>\n",
       "    <tr>\n",
       "      <th>2</th>\n",
       "      <td>4.7</td>\n",
       "      <td>3.2</td>\n",
       "      <td>1.3</td>\n",
       "      <td>0.2</td>\n",
       "      <td>Iris-setosa</td>\n",
       "    </tr>\n",
       "    <tr>\n",
       "      <th>3</th>\n",
       "      <td>4.6</td>\n",
       "      <td>3.1</td>\n",
       "      <td>1.5</td>\n",
       "      <td>0.2</td>\n",
       "      <td>Iris-setosa</td>\n",
       "    </tr>\n",
       "    <tr>\n",
       "      <th>4</th>\n",
       "      <td>5.0</td>\n",
       "      <td>3.6</td>\n",
       "      <td>1.4</td>\n",
       "      <td>0.2</td>\n",
       "      <td>Iris-setosa</td>\n",
       "    </tr>\n",
       "  </tbody>\n",
       "</table>\n",
       "</div>"
      ],
      "text/plain": [
       "   sepal_length  sepal_width  petal_length  petal_width      species\n",
       "0           5.1          3.5           1.4          0.2  Iris-setosa\n",
       "1           4.9          3.0           1.4          0.2  Iris-setosa\n",
       "2           4.7          3.2           1.3          0.2  Iris-setosa\n",
       "3           4.6          3.1           1.5          0.2  Iris-setosa\n",
       "4           5.0          3.6           1.4          0.2  Iris-setosa"
      ]
     },
     "execution_count": 2,
     "metadata": {},
     "output_type": "execute_result"
    }
   ],
   "source": [
    "data = read_csv('iris.csv')\n",
    "data.head()"
   ]
  },
  {
   "cell_type": "code",
   "execution_count": 3,
   "metadata": {},
   "outputs": [],
   "source": [
    "data.loc[data.species == 'Iris-setosa', 'species'] = 0\n",
    "data.loc[data.species == 'Iris-versicolor', 'species'] = 1\n",
    "data.loc[data.species == 'Iris-virginica', 'species'] = 2\n",
    "\n",
    "\n",
    "x_train, x_test, y_train, y_test = train_test_split(data[data.columns[0:4]].values,\n",
    "                                                    data.species.values,\n",
    "                                                    test_size = 0.3)\n",
    "\n",
    "x_train = Variable(Tensor(x_train).float())\n",
    "x_test = Variable(Tensor(x_test).float())\n",
    "y_train = Variable(Tensor(y_train.astype(float)))\n",
    "y_test = Variable(Tensor(y_test.astype(float)))"
   ]
  },
  {
   "cell_type": "markdown",
   "metadata": {},
   "source": [
    "# 3. Buat jariangan saraf tiruannya"
   ]
  },
  {
   "cell_type": "code",
   "execution_count": 4,
   "metadata": {},
   "outputs": [],
   "source": [
    "class Net(nn.Module):\n",
    "    def __init__(self):\n",
    "        super(Net, self).__init__()\n",
    "        self.fc1 = nn.Linear(4, 100)\n",
    "        self.fc2 = nn.Linear(100, 100)\n",
    "        self.fc3 = nn.Linear(100, 3)\n",
    "        self.softmax = nn.Softmax(dim=1)\n",
    "\n",
    "    def forward(self, X):\n",
    "        X = relu(self.fc1(X))\n",
    "        X = self.fc2(X)\n",
    "        X = self.fc3(X)\n",
    "        X = self.softmax(X)\n",
    "\n",
    "        return X"
   ]
  },
  {
   "cell_type": "code",
   "execution_count": 5,
   "metadata": {},
   "outputs": [
    {
     "data": {
      "text/plain": [
       "Net(\n",
       "  (fc1): Linear(in_features=4, out_features=100, bias=True)\n",
       "  (fc2): Linear(in_features=100, out_features=100, bias=True)\n",
       "  (fc3): Linear(in_features=100, out_features=3, bias=True)\n",
       "  (softmax): Softmax(dim=1)\n",
       ")"
      ]
     },
     "execution_count": 5,
     "metadata": {},
     "output_type": "execute_result"
    }
   ],
   "source": [
    "Net()"
   ]
  },
  {
   "cell_type": "markdown",
   "metadata": {},
   "source": [
    "# 4. Sesuaikan parameter"
   ]
  },
  {
   "cell_type": "code",
   "execution_count": 6,
   "metadata": {},
   "outputs": [],
   "source": [
    "net = Net()\n",
    "criterion = nn.CrossEntropyLoss()\n",
    "optimizer = optim.SGD(net.parameters(), lr=0.1)"
   ]
  },
  {
   "cell_type": "markdown",
   "metadata": {},
   "source": [
    "# 5. Latih jaringan saraf tiruannya"
   ]
  },
  {
   "cell_type": "code",
   "execution_count": 7,
   "metadata": {
    "scrolled": true
   },
   "outputs": [
    {
     "name": "stdout",
     "output_type": "stream",
     "text": [
      "Epoch ke 0 nilai loss tensor(1.0788)\n",
      "Epoch ke 1 nilai loss tensor(1.0626)\n",
      "Epoch ke 2 nilai loss tensor(1.0449)\n",
      "Epoch ke 3 nilai loss tensor(1.0258)\n",
      "Epoch ke 4 nilai loss tensor(1.0059)\n",
      "Epoch ke 5 nilai loss tensor(0.9859)\n",
      "Epoch ke 6 nilai loss tensor(0.9667)\n",
      "Epoch ke 7 nilai loss tensor(0.9489)\n",
      "Epoch ke 8 nilai loss tensor(0.9326)\n",
      "Epoch ke 9 nilai loss tensor(0.9181)\n",
      "Epoch ke 10 nilai loss tensor(0.9051)\n",
      "Epoch ke 11 nilai loss tensor(0.8934)\n",
      "Epoch ke 12 nilai loss tensor(0.8828)\n",
      "Epoch ke 13 nilai loss tensor(0.8732)\n",
      "Epoch ke 14 nilai loss tensor(0.8644)\n",
      "Epoch ke 15 nilai loss tensor(0.8563)\n",
      "Epoch ke 16 nilai loss tensor(0.8488)\n",
      "Epoch ke 17 nilai loss tensor(0.8418)\n",
      "Epoch ke 18 nilai loss tensor(0.8353)\n",
      "Epoch ke 19 nilai loss tensor(0.8293)\n",
      "Epoch ke 20 nilai loss tensor(0.8235)\n",
      "Epoch ke 21 nilai loss tensor(0.8180)\n",
      "Epoch ke 22 nilai loss tensor(0.8128)\n",
      "Epoch ke 23 nilai loss tensor(0.8078)\n",
      "Epoch ke 24 nilai loss tensor(0.8029)\n",
      "Epoch ke 25 nilai loss tensor(0.7982)\n",
      "Epoch ke 26 nilai loss tensor(0.7936)\n",
      "Epoch ke 27 nilai loss tensor(0.7892)\n",
      "Epoch ke 28 nilai loss tensor(0.7847)\n",
      "Epoch ke 29 nilai loss tensor(0.7804)\n",
      "Epoch ke 30 nilai loss tensor(0.7761)\n",
      "Epoch ke 31 nilai loss tensor(0.7719)\n",
      "Epoch ke 32 nilai loss tensor(0.7676)\n",
      "Epoch ke 33 nilai loss tensor(0.7634)\n",
      "Epoch ke 34 nilai loss tensor(0.7594)\n",
      "Epoch ke 35 nilai loss tensor(0.7557)\n",
      "Epoch ke 36 nilai loss tensor(0.7528)\n",
      "Epoch ke 37 nilai loss tensor(0.7529)\n",
      "Epoch ke 38 nilai loss tensor(0.7655)\n",
      "Epoch ke 39 nilai loss tensor(0.7870)\n",
      "Epoch ke 40 nilai loss tensor(0.8165)\n",
      "Epoch ke 41 nilai loss tensor(0.7398)\n",
      "Epoch ke 42 nilai loss tensor(0.7409)\n",
      "Epoch ke 43 nilai loss tensor(0.7584)\n",
      "Epoch ke 44 nilai loss tensor(0.8049)\n",
      "Epoch ke 45 nilai loss tensor(0.7368)\n",
      "Epoch ke 46 nilai loss tensor(0.7647)\n",
      "Epoch ke 47 nilai loss tensor(0.7794)\n",
      "Epoch ke 48 nilai loss tensor(0.8115)\n",
      "Epoch ke 49 nilai loss tensor(0.7195)\n",
      "Epoch ke 50 nilai loss tensor(0.7198)\n",
      "Epoch ke 51 nilai loss tensor(0.7355)\n",
      "Epoch ke 52 nilai loss tensor(0.7899)\n",
      "Epoch ke 53 nilai loss tensor(0.7324)\n",
      "Epoch ke 54 nilai loss tensor(0.7867)\n",
      "Epoch ke 55 nilai loss tensor(0.7300)\n",
      "Epoch ke 56 nilai loss tensor(0.7857)\n",
      "Epoch ke 57 nilai loss tensor(0.7250)\n",
      "Epoch ke 58 nilai loss tensor(0.7803)\n",
      "Epoch ke 59 nilai loss tensor(0.7271)\n",
      "Epoch ke 60 nilai loss tensor(0.7862)\n",
      "Epoch ke 61 nilai loss tensor(0.7120)\n",
      "Epoch ke 62 nilai loss tensor(0.7607)\n",
      "Epoch ke 63 nilai loss tensor(0.7432)\n",
      "Epoch ke 64 nilai loss tensor(0.7994)\n",
      "Epoch ke 65 nilai loss tensor(0.6890)\n",
      "Epoch ke 66 nilai loss tensor(0.6921)\n",
      "Epoch ke 67 nilai loss tensor(0.7145)\n",
      "Epoch ke 68 nilai loss tensor(0.7804)\n",
      "Epoch ke 69 nilai loss tensor(0.7000)\n",
      "Epoch ke 70 nilai loss tensor(0.7538)\n",
      "Epoch ke 71 nilai loss tensor(0.7321)\n",
      "Epoch ke 72 nilai loss tensor(0.7942)\n",
      "Epoch ke 73 nilai loss tensor(0.6763)\n",
      "Epoch ke 74 nilai loss tensor(0.6806)\n",
      "Epoch ke 75 nilai loss tensor(0.7050)\n",
      "Epoch ke 76 nilai loss tensor(0.7745)\n",
      "Epoch ke 77 nilai loss tensor(0.6885)\n",
      "Epoch ke 78 nilai loss tensor(0.7429)\n",
      "Epoch ke 79 nilai loss tensor(0.7256)\n",
      "Epoch ke 80 nilai loss tensor(0.7895)\n",
      "Epoch ke 81 nilai loss tensor(0.6651)\n",
      "Epoch ke 82 nilai loss tensor(0.6694)\n",
      "Epoch ke 83 nilai loss tensor(0.6917)\n",
      "Epoch ke 84 nilai loss tensor(0.7597)\n",
      "Epoch ke 85 nilai loss tensor(0.6903)\n",
      "Epoch ke 86 nilai loss tensor(0.7571)\n",
      "Epoch ke 87 nilai loss tensor(0.6879)\n",
      "Epoch ke 88 nilai loss tensor(0.7531)\n",
      "Epoch ke 89 nilai loss tensor(0.6878)\n",
      "Epoch ke 90 nilai loss tensor(0.7530)\n",
      "Epoch ke 91 nilai loss tensor(0.6828)\n",
      "Epoch ke 92 nilai loss tensor(0.7447)\n",
      "Epoch ke 93 nilai loss tensor(0.6880)\n",
      "Epoch ke 94 nilai loss tensor(0.7531)\n",
      "Epoch ke 95 nilai loss tensor(0.6733)\n",
      "Epoch ke 96 nilai loss tensor(0.7273)\n",
      "Epoch ke 97 nilai loss tensor(0.6971)\n",
      "Epoch ke 98 nilai loss tensor(0.7622)\n",
      "Epoch ke 99 nilai loss tensor(0.6560)\n"
     ]
    }
   ],
   "source": [
    "for epoch in range(100):\n",
    "    optimizer.zero_grad()\n",
    "    \n",
    "    out = net(x_train)\n",
    "    loss = criterion(out, y_train.long())\n",
    "    \n",
    "    loss.backward()\n",
    "    optimizer.step()\n",
    "    \n",
    "    print('Epoch ke', epoch, 'nilai loss', loss.data)"
   ]
  },
  {
   "cell_type": "markdown",
   "metadata": {},
   "source": [
    "# 6. Prediksi dan evaluasi modelnya"
   ]
  },
  {
   "cell_type": "code",
   "execution_count": 8,
   "metadata": {},
   "outputs": [],
   "source": [
    "hasil_prediksi = net(x_test)\n",
    "hasil_prediksi = max(hasil_prediksi, 1)[1]"
   ]
  },
  {
   "cell_type": "code",
   "execution_count": 9,
   "metadata": {},
   "outputs": [
    {
     "data": {
      "text/plain": [
       "array([[14,  0,  0],\n",
       "       [ 0, 11,  5],\n",
       "       [ 0,  0, 15]])"
      ]
     },
     "execution_count": 9,
     "metadata": {},
     "output_type": "execute_result"
    }
   ],
   "source": [
    "confusion_matrix(y_test.data, hasil_prediksi.data)"
   ]
  },
  {
   "cell_type": "code",
   "execution_count": 10,
   "metadata": {},
   "outputs": [
    {
     "name": "stdout",
     "output_type": "stream",
     "text": [
      "              precision    recall  f1-score   support\n",
      "\n",
      "         0.0       1.00      1.00      1.00        14\n",
      "         1.0       1.00      0.69      0.81        16\n",
      "         2.0       0.75      1.00      0.86        15\n",
      "\n",
      "    accuracy                           0.89        45\n",
      "   macro avg       0.92      0.90      0.89        45\n",
      "weighted avg       0.92      0.89      0.89        45\n",
      "\n"
     ]
    }
   ],
   "source": [
    "print(classification_report(y_test.data, hasil_prediksi.data))"
   ]
  },
  {
   "cell_type": "code",
   "execution_count": null,
   "metadata": {},
   "outputs": [],
   "source": []
  }
 ],
 "metadata": {
  "kernelspec": {
   "display_name": "Python 3",
   "language": "python",
   "name": "python3"
  },
  "language_info": {
   "codemirror_mode": {
    "name": "ipython",
    "version": 3
   },
   "file_extension": ".py",
   "mimetype": "text/x-python",
   "name": "python",
   "nbconvert_exporter": "python",
   "pygments_lexer": "ipython3",
   "version": "3.6.9"
  }
 },
 "nbformat": 4,
 "nbformat_minor": 2
}
